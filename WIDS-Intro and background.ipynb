{
 "cells": [
  {
   "cell_type": "markdown",
   "metadata": {
    "_uuid": "22337412a57e23b7fb7110386972f1b1ddb3ab05"
   },
   "source": [
    "Title: WIDS Palm Oil Plantation Prediction\n",
    "\n",
    "Date : February  2019\n",
    "\n",
    "Plan:\n",
    "\n",
    "**First things First: snacks and chip checked, Coffee checked**\n",
    "\n",
    "* ** Introduction**\n",
    "    1. Data Field and Description\n",
    "    \n",
    "    2.  Importing Libraries\n",
    "    \n",
    "    3. Explore the dataset\n",
    "    \n",
    "    4. Feature exploration and Cleaning\n"
   ]
  },
  {
   "cell_type": "markdown",
   "metadata": {
    "_uuid": "8aba66c0a19878652ee9ce0b718cf8697d3e6be4"
   },
   "source": [
    "# Introduction: \n",
    "\n",
    "This competiton touches on one of the major agricultural problems facing many Palm oil producing countries-  Deforestaion, biodiversity loss and Increase Green house emission.\n",
    "\n",
    "Palm oil (Elæis guineensis) is the main cooking ingredient in the most tropical parts of the world like  Brazil, South East Asia and tropical part of Africa(particularly in Cameroon where i grew up). Extracted from the pulp of the fruit, this staple has so many uses and virtues. \n",
    "\n",
    "**To the Health:**\n",
    "\n",
    "* Palm oil reduces cholestorol levels and some stusdies have found that palm oil can reduce the amount of bad LDL cholesterol in our body, keeping the hearts healthy and strong. Which brings us to the second virtue\n",
    "* It slows the progression of Heart diseases\n",
    "* Boosts Brain Health as it is jam-packed with a from of Vitamin E(tocotienol)  which has beneficial effects on brain health, skin and hair health too.\n",
    "* Plam oil is an excellent source of the Vitamin A supplement -Beta-Carotene, whihc is important for maintaining good eye health, Also beneficial to pregnant women and their babies. ( Just a little anecdote: In my Country Cameroon, whenever an old women sees you wearing prescription eyeglasses, she will tell you \"Come on!!! Take that thing off your eyes and consume more Palm oil\". Happens to me all the time :') )\n",
    "* Palm oil is high in beneficial antioxidant, which has been shown to reduce inflammation and Oxidative stress caused by free radicals.\n",
    "\n",
    "**Additionally:**\n",
    " * It is also the cheapest vegetable oil in the world\n",
    " * Plam oil also produces palm kernel oil extracted from the endosperm which is mainly used in the cosmetics industry.  \n",
    " * Palm kernel waste (after the oil has beenextracted) is also used as animal feed and in co-firing in electricity generation.\n",
    " * it also has a natural preservative effect which extends the shelf life of food products That is why it is about half the package products sold in our grocery stores. From shampoo to detergents, to lipsticks, to bread, to cookies and even our Biodiesels, palm oil is present everywhere.\n",
    " \n",
    " **BUT BUT BUT.....** \n",
    " * Plam oils cultivation is responsible for direct damage to flora and wildlife habitats due to forest conversion and the influx of palm oil workers increases pressure on wildlife through hunting .\n",
    " * Plam oils deforestation as a result of forest being destroyed, to keep up with the growing demands for palm oil, hence increasing greeenhouse gas emissions.\n",
    " * Palm oil production has major negative environmental consequences on soils (erosion potential on steep slopes) and water quality (pollution by pesticide run-off).\n",
    " * There has also been reports of Human rights violations by coorporations and companies that produce palm oil. Some of the issues incude, unsafe working conditions for the workers, Very low pay etc.\n",
    " \n",
    "Despite the positive impacts and vitues of palm oil, its expansion has led to deforestation, increased carbon emissions, and biodiversity loss,.\n",
    " \n",
    "# About the Challenge:\n",
    "\n",
    "The challenge is to create a model that predicts the presence of oil palm plantations in satellite imagery. The datathon task is to train a model that takes as input a satellite image and outputs a prediction of how likely it is that the image contains an oil palm plantation. \n",
    "\n",
    "The dataset images are 3-meter spatial resolution, and each is labeled with whether an oil palm plantation appears in the image (0 for no plantation, 1 for any presence of a plantation).\n",
    "\n",
    "Labeled training and test datasets are provided for model development.\n",
    "\n",
    "# sOurce:\n",
    "* https://news.mongabay.com/2016/04/palm-oil-cameroon-blessing-curse-small-scale-farmers-2/\n",
    "* http://awsassets.panda.org/downloads/palmoildevelopmentcameroon_english.pdf\n",
    "* https://www.excelvite.com/red-palm-oil-benefits-the-heart-brain-but-is-it-bad-for-the-environment/"
   ]
  },
  {
   "cell_type": "markdown",
   "metadata": {
    "_uuid": "bf16a16cb021df8dab32c419965f1b314739a92c"
   },
   "source": [
    "**Data Fields and Description:**\n",
    "\n",
    "**image_id** - an anonymous id unique to a given image.\n",
    "\n",
    "**has_oilpalm** - the annotation or label for a given image, with 0 indicating no oil palm, and 1 indicating presence of oil palm plantations.\n",
    "\n",
    "**score** - confidence score based on the aggregated results from crowdsourcing the annotations. This describes the level of agreement between multiple contributors, weighted by the contributor's trust score, and indicates Figure Eight's confidence in the validity of the result. For more details on how these scores are calculated, visit this article. Please note that this is extra data that need not be incorporated in your model, but may be useful. In addition, stay tuned for a blogpost focused more deeply on the data annotation process and more!"
   ]
  },
  {
   "cell_type": "markdown",
   "metadata": {
    "_uuid": "deb4a34db3d24c459c81d6b5cc0136ee7ba8f3d3"
   },
   "source": [
    "# 1- Importing Libraries"
   ]
  },
  {
   "cell_type": "code",
   "execution_count": 2,
   "metadata": {
    "_cell_guid": "b1076dfc-b9ad-4769-8c92-a6c4dae69d19",
    "_uuid": "8f2839f25d086af736a60e9eeb907d3b93b6e0e5"
   },
   "outputs": [],
   "source": [
    "import numpy as np # linear algebra\n",
    "import pandas as pd # data processing, CSV file I/O (e.g. pd.read_csv)\n",
    "import json\n",
    "import matplotlib.pyplot as plt\n",
    "import seaborn as sns"
   ]
  },
  {
   "cell_type": "markdown",
   "metadata": {
    "_cell_guid": "79c7e3d0-c299-4dcb-8224-4455121ee9b0",
    "_uuid": "d629ff2d2480ee46fbb7e2d37f6b5fab8052498a",
    "collapsed": true
   },
   "source": [
    "# 2- Loading and Reading data"
   ]
  },
  {
   "cell_type": "code",
   "execution_count": 29,
   "metadata": {
    "_uuid": "01448fb8960e0dc65f8680a2fe3803a3c047a313"
   },
   "outputs": [
    {
     "data": {
      "text/html": [
       "<div>\n",
       "<style scoped>\n",
       "    .dataframe tbody tr th:only-of-type {\n",
       "        vertical-align: middle;\n",
       "    }\n",
       "\n",
       "    .dataframe tbody tr th {\n",
       "        vertical-align: top;\n",
       "    }\n",
       "\n",
       "    .dataframe thead th {\n",
       "        text-align: right;\n",
       "    }\n",
       "</style>\n",
       "<table border=\"1\" class=\"dataframe\">\n",
       "  <thead>\n",
       "    <tr style=\"text-align: right;\">\n",
       "      <th></th>\n",
       "      <th>image_id</th>\n",
       "      <th>has_oilpalm</th>\n",
       "      <th>score</th>\n",
       "    </tr>\n",
       "  </thead>\n",
       "  <tbody>\n",
       "    <tr>\n",
       "      <th>6578</th>\n",
       "      <td>img_096282017.jpg</td>\n",
       "      <td>0</td>\n",
       "      <td>1.0000</td>\n",
       "    </tr>\n",
       "    <tr>\n",
       "      <th>7924</th>\n",
       "      <td>img_005852018.jpg</td>\n",
       "      <td>0</td>\n",
       "      <td>0.5972</td>\n",
       "    </tr>\n",
       "    <tr>\n",
       "      <th>12791</th>\n",
       "      <td>img_077162018.jpg</td>\n",
       "      <td>0</td>\n",
       "      <td>1.0000</td>\n",
       "    </tr>\n",
       "    <tr>\n",
       "      <th>4442</th>\n",
       "      <td>img_064692017.jpg</td>\n",
       "      <td>0</td>\n",
       "      <td>1.0000</td>\n",
       "    </tr>\n",
       "    <tr>\n",
       "      <th>9317</th>\n",
       "      <td>img_026412018.jpg</td>\n",
       "      <td>0</td>\n",
       "      <td>0.7991</td>\n",
       "    </tr>\n",
       "  </tbody>\n",
       "</table>\n",
       "</div>"
      ],
      "text/plain": [
       "                image_id  has_oilpalm   score\n",
       "6578   img_096282017.jpg            0  1.0000\n",
       "7924   img_005852018.jpg            0  0.5972\n",
       "12791  img_077162018.jpg            0  1.0000\n",
       "4442   img_064692017.jpg            0  1.0000\n",
       "9317   img_026412018.jpg            0  0.7991"
      ]
     },
     "execution_count": 29,
     "metadata": {},
     "output_type": "execute_result"
    }
   ],
   "source": [
    "#oading the .csv file\n",
    "data = pd.read_csv(r\"C:\\Users\\mikel\\OneDrive\\WIDS-2019\\wids datasets\\traininglabels (1).csv\")\n",
    "data.sample(5)"
   ]
  },
  {
   "cell_type": "code",
   "execution_count": 30,
   "metadata": {
    "_uuid": "bb53a1c820b2b30d83be3b84f7b5ae0c27bf87ff"
   },
   "outputs": [
    {
     "data": {
      "text/html": [
       "<div>\n",
       "<style scoped>\n",
       "    .dataframe tbody tr th:only-of-type {\n",
       "        vertical-align: middle;\n",
       "    }\n",
       "\n",
       "    .dataframe tbody tr th {\n",
       "        vertical-align: top;\n",
       "    }\n",
       "\n",
       "    .dataframe thead th {\n",
       "        text-align: right;\n",
       "    }\n",
       "</style>\n",
       "<table border=\"1\" class=\"dataframe\">\n",
       "  <thead>\n",
       "    <tr style=\"text-align: right;\">\n",
       "      <th></th>\n",
       "      <th>has_oilpalm</th>\n",
       "      <th>score</th>\n",
       "    </tr>\n",
       "  </thead>\n",
       "  <tbody>\n",
       "    <tr>\n",
       "      <th>count</th>\n",
       "      <td>15244.000000</td>\n",
       "      <td>15244.000000</td>\n",
       "    </tr>\n",
       "    <tr>\n",
       "      <th>mean</th>\n",
       "      <td>0.061795</td>\n",
       "      <td>0.955769</td>\n",
       "    </tr>\n",
       "    <tr>\n",
       "      <th>std</th>\n",
       "      <td>0.240790</td>\n",
       "      <td>0.109367</td>\n",
       "    </tr>\n",
       "    <tr>\n",
       "      <th>min</th>\n",
       "      <td>0.000000</td>\n",
       "      <td>0.388700</td>\n",
       "    </tr>\n",
       "    <tr>\n",
       "      <th>25%</th>\n",
       "      <td>0.000000</td>\n",
       "      <td>1.000000</td>\n",
       "    </tr>\n",
       "    <tr>\n",
       "      <th>50%</th>\n",
       "      <td>0.000000</td>\n",
       "      <td>1.000000</td>\n",
       "    </tr>\n",
       "    <tr>\n",
       "      <th>75%</th>\n",
       "      <td>0.000000</td>\n",
       "      <td>1.000000</td>\n",
       "    </tr>\n",
       "    <tr>\n",
       "      <th>max</th>\n",
       "      <td>1.000000</td>\n",
       "      <td>1.000000</td>\n",
       "    </tr>\n",
       "  </tbody>\n",
       "</table>\n",
       "</div>"
      ],
      "text/plain": [
       "        has_oilpalm         score\n",
       "count  15244.000000  15244.000000\n",
       "mean       0.061795      0.955769\n",
       "std        0.240790      0.109367\n",
       "min        0.000000      0.388700\n",
       "25%        0.000000      1.000000\n",
       "50%        0.000000      1.000000\n",
       "75%        0.000000      1.000000\n",
       "max        1.000000      1.000000"
      ]
     },
     "execution_count": 30,
     "metadata": {},
     "output_type": "execute_result"
    }
   ],
   "source": [
    "data.describe()"
   ]
  },
  {
   "cell_type": "code",
   "execution_count": 31,
   "metadata": {
    "_uuid": "7d83275060708fd2a905eb5b14b79ffd895703f9"
   },
   "outputs": [
    {
     "data": {
      "text/plain": [
       "int64      1\n",
       "object     1\n",
       "float64    1\n",
       "dtype: int64"
      ]
     },
     "execution_count": 31,
     "metadata": {},
     "output_type": "execute_result"
    }
   ],
   "source": [
    "data.dtypes.value_counts()"
   ]
  },
  {
   "cell_type": "markdown",
   "metadata": {
    "_uuid": "59d26161cb87631e313944e5f782e89f88239063"
   },
   "source": [
    "OBSERVATION:\n",
    "- There are about 15 244 images with an equal number of score and max of 1 signifies that there is an oil palm while a 0 means no oil palm.\n",
    "\n",
    "- There are non Null of NaN columns since the number of 'counts' are equivalent\n",
    "\n",
    "# We will come back to the training label later. Lets take a look at the training image dataset."
   ]
  },
  {
   "cell_type": "code",
   "execution_count": null,
   "metadata": {
    "_uuid": "dcf56b09b4472200b4a0c2f0aea0a6b5bad6f752"
   },
   "outputs": [],
   "source": [
    "train_image = "
   ]
  },
  {
   "cell_type": "code",
   "execution_count": null,
   "metadata": {},
   "outputs": [],
   "source": []
  }
 ],
 "metadata": {
  "kernelspec": {
   "display_name": "Python 3",
   "language": "python",
   "name": "python3"
  },
  "language_info": {
   "codemirror_mode": {
    "name": "ipython",
    "version": 3
   },
   "file_extension": ".py",
   "mimetype": "text/x-python",
   "name": "python",
   "nbconvert_exporter": "python",
   "pygments_lexer": "ipython3",
   "version": "3.6.8"
  }
 },
 "nbformat": 4,
 "nbformat_minor": 1
}
